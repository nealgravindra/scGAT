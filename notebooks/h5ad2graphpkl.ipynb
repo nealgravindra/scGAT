{
 "cells": [
  {
   "cell_type": "code",
   "execution_count": 1,
   "metadata": {},
   "outputs": [],
   "source": [
    "%matplotlib inline\n",
    "%load_ext memory_profiler\n",
    "\n",
    "import os,time,datetime,sys,pickle\n",
    "import scanpy as sc\n",
    "from scipy import sparse\n",
    "from sklearn.model_selection import train_test_split\n",
    "import numpy as np\n",
    "\n",
    "sc.settings.verbosity=2"
   ]
  },
  {
   "cell_type": "markdown",
   "metadata": {},
   "source": [
    "## Transduction\n",
    "\n",
    "Need masking indices"
   ]
  },
  {
   "cell_type": "code",
   "execution_count": null,
   "metadata": {},
   "outputs": [],
   "source": [
    "# load data\n",
    "pdfp = '/home/ngr4/project/scgraph/data/processed/'\n",
    "\n",
    "if True :\n",
    "    start=time.time()\n",
    "    fname='transduction_50p.h5ad'\n",
    "    backed=None # None if not, 'r+' if want to modify AnnData\n",
    "    %memit adata = sc.read_h5ad(os.path.join(pdfp,fname),backed=backed)\n",
    "    print('Data obj loaded in {:.2f}-s @'.format(time.time()-start)+datetime.datetime.now().strftime('%y%m%d.%H:%M:%S'))"
   ]
  },
  {
   "cell_type": "code",
   "execution_count": null,
   "metadata": {},
   "outputs": [],
   "source": [
    "%memit adj=adata.uns['neighbors']['connectivities']+sparse.diags([1]*adata.shape[0]).tocsr()\n",
    "%memit features = (adata.X - adata.X.min()) / (adata.X.max() - adata.X.min())\n"
   ]
  },
  {
   "cell_type": "code",
   "execution_count": null,
   "metadata": {},
   "outputs": [],
   "source": [
    "# masking\n",
    "idx_train,idx_test = train_test_split(range(adata.shape[0]), test_size=0.2, random_state=42, stratify=adata.obs['MS'])\n",
    "idx_test,idx_val = train_test_split(idx_test, test_size=0.5, random_state=42, stratify=adata.obs['MS'][idx_test])\n",
    "train_mask = [1 if i in idx_train else 0 for i in range(node_features.shape[0])]\n",
    "val_mask = [1 if i in idx_val else 0 for i in range(node_features.shape[0])]\n",
    "test_mask = [1 if i in idx_test else 0 for i in range(node_features.shape[0])]"
   ]
  },
  {
   "cell_type": "code",
   "execution_count": null,
   "metadata": {},
   "outputs": [],
   "source": [
    "# lexport\n",
    "pdfp = '/home/ngr4/project/scgraph/data/processed/'\n",
    "        \n",
    "with open(os.path.join(pdfp,'transduction_50pData.pkl'),'wb') as f :\n",
    "    d = {'features':features,\n",
    "         'adj':adj,\n",
    "         'labels':adata.obs['MS'],\n",
    "         'train_mask':train_mask,\n",
    "         'val_mask':val_mask,\n",
    "         'test_mask':test_mask}\n",
    "    pickle.dump(d, f, protocol=pickle.HIGHEST_PROTOCOL)\n",
    "    f.close()\n",
    "    del d"
   ]
  }
 ],
 "metadata": {
  "kernelspec": {
   "display_name": "Python 3",
   "language": "python",
   "name": "python3"
  },
  "language_info": {
   "codemirror_mode": {
    "name": "ipython",
    "version": 3
   },
   "file_extension": ".py",
   "mimetype": "text/x-python",
   "name": "python",
   "nbconvert_exporter": "python",
   "pygments_lexer": "ipython3",
   "version": "3.7.6"
  }
 },
 "nbformat": 4,
 "nbformat_minor": 4
}
